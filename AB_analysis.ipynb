{
  "nbformat": 4,
  "nbformat_minor": 0,
  "metadata": {
    "colab": {
      "provenance": []
    },
    "kernelspec": {
      "name": "python3",
      "display_name": "Python 3"
    },
    "language_info": {
      "name": "python"
    }
  },
  "cells": [
    {
      "cell_type": "markdown",
      "source": [
        "# **Анализ A/B тестирования**"
      ],
      "metadata": {
        "id": "BZDJqLvg0q_O"
      }
    },
    {
      "cell_type": "code",
      "source": [
        "# Импорт необходимых библиотек\n",
        "import pandas as pd\n",
        "import matplotlib.pyplot as plt\n",
        "import numpy as np\n",
        "import scipy.stats as stats"
      ],
      "metadata": {
        "id": "ZDIdi_MB08WW"
      },
      "execution_count": 51,
      "outputs": []
    },
    {
      "cell_type": "markdown",
      "source": [
        "## **1. Предварительный анализ данных**\n",
        "### 1.1. Загрузка и агрегация данных"
      ],
      "metadata": {
        "id": "G05LFO651FrB"
      }
    },
    {
      "cell_type": "code",
      "source": [
        "# Загрузка данных\n",
        "data = pd.read_csv('synthetic_gmv_data_1.1.csv')\n",
        "print(f\"Размерность данных: {data.shape}\")\n",
        "print(\"\\nПервые 5 строк данных:\")\n",
        "print(data.head())\n",
        "\n",
        "# Агрегация данных по пользователям\n",
        "user_gmv = data.groupby('user_id')['gmv'].sum().reset_index()"
      ],
      "metadata": {
        "colab": {
          "base_uri": "https://localhost:8080/"
        },
        "id": "1X0VOAvt1QAq",
        "outputId": "2d68ea53-b596-4463-ebba-9f8502c0552f"
      },
      "execution_count": 54,
      "outputs": [
        {
          "output_type": "stream",
          "name": "stdout",
          "text": [
            "Размерность данных: (1601993, 2)\n",
            "\n",
            "Первые 5 строк данных:\n",
            "      user_id  gmv\n",
            "0  guo0pdwqvg  506\n",
            "1  guo0pdwqvg  760\n",
            "2  guo0pdwqvg  633\n",
            "3  guo0pdwqvg  506\n",
            "4  guo0pdwqvg  760\n"
          ]
        }
      ]
    },
    {
      "cell_type": "markdown",
      "source": [
        "### 1.2. Расчет основных статистик"
      ],
      "metadata": {
        "id": "JbtFxUpg1PpO"
      }
    },
    {
      "cell_type": "code",
      "source": [
        "# Расчет выборочного среднего и несмещенной дисперсии\n",
        "mean_gmv = user_gmv['gmv'].mean()\n",
        "variance_gmv = user_gmv['gmv'].var(ddof=1)\n",
        "\n",
        "print(f\"Оценка математического ожидания GMV: {mean_gmv:.2f}\")\n",
        "print(f\"Несмещенная оценка дисперсии GMV: {variance_gmv:.2f}\")"
      ],
      "metadata": {
        "colab": {
          "base_uri": "https://localhost:8080/"
        },
        "id": "H0qg6DJk1mQc",
        "outputId": "805da2fd-8de6-4671-8e7f-befb9953ed69"
      },
      "execution_count": 55,
      "outputs": [
        {
          "output_type": "stream",
          "name": "stdout",
          "text": [
            "Оценка математического ожидания GMV: 2750.85\n",
            "Несмещенная оценка дисперсии GMV: 3646228.41\n"
          ]
        }
      ]
    },
    {
      "cell_type": "markdown",
      "source": [
        "## **2. Расчет размера выборки для A/B теста**"
      ],
      "metadata": {
        "id": "wzFIhsKt13AY"
      }
    },
    {
      "cell_type": "markdown",
      "source": [
        "Расчитаем необходимое количество пользователей, чтобы \"увидеть\" эффект в 1% с вероятностью ошибки первого рода 5% и вероятностью ошибки второго рода 20%. Разбиение на тестовую и контрольную группу 1 к 3 (контроль в 3 раза больше теста). Дисперсии в тестовой и контрольной группах одинаковые."
      ],
      "metadata": {
        "id": "v77EPMJj2HTs"
      }
    },
    {
      "cell_type": "code",
      "source": [
        "def calculate_sample_size(variance, effect, k, alpha=0.05, beta=0.2):\n",
        "    \"\"\"\n",
        "    Расчет необходимого размера выборки для обнаружения эффекта\n",
        "\n",
        "    Параметры:\n",
        "    variance - дисперсия метрики\n",
        "    effect - минимальный обнаруживаемый эффект (в абсолютных единицах)\n",
        "    k - соотношение контрольной группы к тестовой (k:1)\n",
        "    alpha - вероятность ошибки первого рода\n",
        "    beta - вероятность ошибки второго рода\n",
        "\n",
        "    Возвращает:\n",
        "     размер тестовой группы, размер контрольной группы, общий размер\n",
        "    \"\"\"\n",
        "    dist = stats.norm(loc=0, scale=1)\n",
        "    const = (dist.ppf(1-alpha/2) + dist.ppf(1-beta))**2\n",
        "    m = const * (1 + k) * variance / (effect**2)\n",
        "    n = m / k\n",
        "    return int(n), int(m), int(n + m)\n",
        "\n",
        "# Параметры теста\n",
        "alpha = 0.05  # вероятность ошибки первого рода\n",
        "beta = 0.2    # вероятность ошибки второго рода\n",
        "effect = 0.01 * mean_gmv  # 1% эффект от среднего\n",
        "k = 3         # соотношение контрольной к тестовой группе 3:1\n",
        "\n",
        "# Расчет размера выборки\n",
        "test_size, control_size, total_size = calculate_sample_size(\n",
        "    variance=variance_gmv,\n",
        "    effect=effect,\n",
        "    k=k,\n",
        "    alpha=alpha,\n",
        "    beta=beta\n",
        ")\n",
        "\n",
        "print(f\"- Тестовая группа: {test_size} пользователей\")\n",
        "print(f\"- Контрольная группа: {control_size} пользователей\")\n",
        "print(f\"- Всего: {total_size} пользователей\")"
      ],
      "metadata": {
        "colab": {
          "base_uri": "https://localhost:8080/"
        },
        "id": "FbnutopL2bJU",
        "outputId": "60a69947-102c-4d82-8b7c-f94dbb3f4162"
      },
      "execution_count": 58,
      "outputs": [
        {
          "output_type": "stream",
          "name": "stdout",
          "text": [
            "- Тестовая группа: 50426 пользователей\n",
            "- Контрольная группа: 151279 пользователей\n",
            "- Всего: 201705 пользователей\n"
          ]
        }
      ]
    },
    {
      "cell_type": "markdown",
      "source": [
        "## **3. Анализ A/B теста: сравнение средних GMV**\n",
        "3.1. Загрузка и подготовка данных"
      ],
      "metadata": {
        "id": "OpQkksoL2yvd"
      }
    },
    {
      "cell_type": "code",
      "source": [
        "# Загрузка данных эксперимента\n",
        "data_exp = pd.read_csv('synthetic_gmv_data_1.2.csv')\n",
        "print(f\"Размерность данных эксперимента: {data_exp.shape}\")\n",
        "print(\"\\nПервые 5 строк данных эксперимента:\")\n",
        "print(data_exp.head())\n",
        "\n",
        "# Агрегация по пользователям\n",
        "user_gmv_exp = data_exp.groupby(['user_id', 'group_name'])['gmv'].sum().reset_index()\n"
      ],
      "metadata": {
        "colab": {
          "base_uri": "https://localhost:8080/"
        },
        "id": "leVQUoIb26cM",
        "outputId": "dedfe149-4762-44fe-d577-8349f11811f8"
      },
      "execution_count": 59,
      "outputs": [
        {
          "output_type": "stream",
          "name": "stdout",
          "text": [
            "Размерность данных эксперимента: (799061, 3)\n",
            "\n",
            "Первые 5 строк данных эксперимента:\n",
            "      user_id   gmv group_name\n",
            "0  myo4ixol31  1428       test\n",
            "1  myo4ixol31  1428       test\n",
            "2  myo4ixol31  1071       test\n",
            "3  myo4ixol31  1071       test\n",
            "4  pkzf2889ww   351       test\n"
          ]
        }
      ]
    },
    {
      "cell_type": "markdown",
      "source": [
        "3.2. Проверка гипотезы о равенстве средних (t-тест)"
      ],
      "metadata": {
        "id": "uJm5p4ra3JAd"
      }
    },
    {
      "cell_type": "code",
      "source": [
        "# Разделение на группы\n",
        "control = user_gmv_exp[user_gmv_exp['group_name'] == 'control']['gmv']\n",
        "test = user_gmv_exp[user_gmv_exp['group_name'] == 'test']['gmv']\n",
        "\n",
        "# Проведение t-теста\n",
        "t_stat, p_value = stats.ttest_ind(test, control, equal_var=False)\n",
        "\n",
        "print(\"Результаты t-теста:\")\n",
        "print(f\"T-статистика: {t_stat:.3f}\")\n",
        "print(f\"P-value: {p_value:.3f}\")\n",
        "\n",
        "# Интерпретация результатов\n",
        "alpha = 0.05\n",
        "if p_value < alpha:\n",
        "    print(\"Вывод: Отвергаем нулевую гипотезу - есть статистически значимые различия между группами.\")\n",
        "else:\n",
        "    print(\"Вывод: Не отвергаем нулевую гипотезу - статистически значимых различий не обнаружено.\")"
      ],
      "metadata": {
        "colab": {
          "base_uri": "https://localhost:8080/"
        },
        "id": "3ulN-mu_3PW9",
        "outputId": "dc2bf089-45a4-43f7-a555-407c7d7a857a"
      },
      "execution_count": 61,
      "outputs": [
        {
          "output_type": "stream",
          "name": "stdout",
          "text": [
            "Результаты t-теста:\n",
            "T-статистика: 2.360\n",
            "P-value: 0.018\n",
            "Вывод: Отвергаем нулевую гипотезу - есть статистически значимые различия между группами.\n"
          ]
        }
      ]
    },
    {
      "cell_type": "markdown",
      "source": [
        "## **4. Анализ среднего чека: дельта-метод**\n",
        "\n",
        "4.1. Подготовка данных"
      ],
      "metadata": {
        "id": "X254VXrf32Ll"
      }
    },
    {
      "cell_type": "code",
      "source": [
        "# Агрегация данных с подсчетом количества транзакций\n",
        "user_data = data_exp.groupby(['user_id', 'group_name']).agg(\n",
        "    total_gmv=('gmv', 'sum'),\n",
        "    n_transactions=('gmv', 'count')\n",
        ").reset_index()\n",
        "\n",
        "print(\"Агрегированные данные по пользователям:\")\n",
        "print(user_data.head())"
      ],
      "metadata": {
        "colab": {
          "base_uri": "https://localhost:8080/"
        },
        "id": "mD8jl5ov35L0",
        "outputId": "ff9c5164-a9e7-4929-b506-94324d8f568d"
      },
      "execution_count": 62,
      "outputs": [
        {
          "output_type": "stream",
          "name": "stdout",
          "text": [
            "Агрегированные данные по пользователям:\n",
            "      user_id group_name  total_gmv  n_transactions\n",
            "0  00062h7u56    control        733               1\n",
            "1  00074uxybk       test       3187               3\n",
            "2  000ic5j18m    control       2933               6\n",
            "3  000plmykri       test       1695               5\n",
            "4  00174ganru    control       1496               4\n"
          ]
        }
      ]
    },
    {
      "cell_type": "markdown",
      "source": [
        "4.2. Реализация дельта-метода"
      ],
      "metadata": {
        "id": "7aXkSUVV4AAk"
      }
    },
    {
      "cell_type": "code",
      "source": [
        "def delta_method_variance(numerator, denominator):\n",
        "    \"\"\"\n",
        "    Расчет дисперсии отношения средних (дельта-метод)\n",
        "\n",
        "    Параметры:\n",
        "    numerator - вектор числителя (например, сумма GMV)\n",
        "    denominator - вектор знаменателя (например, количество транзакций)\n",
        "\n",
        "    Возвращает:\n",
        "    Оценку дисперсии отношения средних\n",
        "    \"\"\"\n",
        "    x = numerator\n",
        "    y = denominator\n",
        "    n = len(x)\n",
        "\n",
        "    mu_x = np.mean(x)\n",
        "    mu_y = np.mean(y)\n",
        "    var_x = np.var(x, ddof=1)\n",
        "    var_y = np.var(y, ddof=1)\n",
        "    cov_xy = np.cov(x, y, ddof=1)[0, 1]\n",
        "\n",
        "    delta_var = (var_x / mu_y**2\n",
        "                - 2 * cov_xy * mu_x / mu_y**3\n",
        "                + var_y * mu_x**2 / mu_y**4) / n\n",
        "    return delta_var\n",
        "\n",
        "# Разделение на группы\n",
        "control_group = user_data[user_data['group_name'] == 'control']\n",
        "test_group = user_data[user_data['group_name'] == 'test']\n",
        "\n",
        "# Расчет дисперсий по дельта-методу\n",
        "test_var = delta_method_variance(test_group['total_gmv'], test_group['n_transactions'])\n",
        "control_var = delta_method_variance(control_group['total_gmv'], control_group['n_transactions'])\n",
        "\n",
        "# Расчет средних чеков\n",
        "mean_control = control_group['total_gmv'].sum() / control_group['n_transactions'].sum()\n",
        "mean_test = test_group['total_gmv'].sum() / test_group['n_transactions'].sum()\n",
        "\n",
        "print(\"Результаты анализа среднего чека:\")\n",
        "print(f\"Средний чек тестовой группы: {mean_test:.2f}\")\n",
        "print(f\"Средний чек контрольной группы: {mean_control:.2f}\")\n",
        "print(f\"Дисперсия тестовой группы (дельта-метод): {test_var:.4f}\")\n",
        "print(f\"Дисперсия контрольной группы (дельта-метод): {control_var:.4f}\")"
      ],
      "metadata": {
        "colab": {
          "base_uri": "https://localhost:8080/"
        },
        "id": "uwkFBGLO3_XH",
        "outputId": "34ff1f56-cad8-4a04-cbd6-d07546867339"
      },
      "execution_count": 63,
      "outputs": [
        {
          "output_type": "stream",
          "name": "stdout",
          "text": [
            "Результаты анализа среднего чека:\n",
            "Средний чек тестовой группы: 704.21\n",
            "Средний чек контрольной группы: 700.22\n",
            "Дисперсия тестовой группы (дельта-метод): 2.1727\n",
            "Дисперсия контрольной группы (дельта-метод): 0.7142\n"
          ]
        }
      ]
    },
    {
      "cell_type": "markdown",
      "source": [
        "4.3. Проверка гипотезы для среднего чека"
      ],
      "metadata": {
        "id": "PcfqL9IN4Lzs"
      }
    },
    {
      "cell_type": "code",
      "source": [
        "# Расчет t-статистики и p-value\n",
        "t_stat = (mean_test - mean_control) / np.sqrt(test_var + control_var)\n",
        "df = len(test_group) + len(control_group) - 2  # степени свободы\n",
        "p_value = 2 * (1 - stats.t.cdf(abs(t_stat), df=df))\n",
        "\n",
        "print(\"Результаты t-теста:\")\n",
        "print(f\"T-статистика: {t_stat:.3f}\")\n",
        "print(f\"P-value: {p_value:.3f}\")\n",
        "\n",
        "# Интерпретация результатов\n",
        "alpha = 0.05\n",
        "if p_value < alpha:\n",
        "    print(\"Вывод: Отвергаем нулевую гипотезу - есть статистически значимые различия в среднем чеке между группами.\")\n",
        "else:\n",
        "    print(\"Вывод: Не отвергаем нулевую гипотезу - статистически значимых различий в среднем чеке не обнаружено.\")"
      ],
      "metadata": {
        "colab": {
          "base_uri": "https://localhost:8080/"
        },
        "id": "bOuSQNZ_4N8r",
        "outputId": "27023ae3-c976-47b3-9cd8-70f2c9923523"
      },
      "execution_count": 65,
      "outputs": [
        {
          "output_type": "stream",
          "name": "stdout",
          "text": [
            "Результаты t-теста:\n",
            "T-статистика: 2.344\n",
            "P-value: 0.019\n",
            "Вывод: Отвергаем нулевую гипотезу - есть статистически значимые различия в среднем чеке между группами.\n"
          ]
        }
      ]
    },
    {
      "cell_type": "markdown",
      "source": [
        "## **5. Линеаризация метрики**\n",
        "\n",
        "5.1. Реализация линеаризации второго типа"
      ],
      "metadata": {
        "id": "ZNRvxct640eS"
      }
    },
    {
      "cell_type": "code",
      "source": [
        "def linearize_metric(x, y, x_bar, y_bar):\n",
        "    \"\"\"\n",
        "    Линеаризация метрики отношения (второй тип)\n",
        "\n",
        "    Параметры:\n",
        "    x - числитель (total_gmv)\n",
        "    y - знаменатель (n_transactions)\n",
        "    x_bar - среднее по числителю\n",
        "    y_bar - среднее по знаменателю\n",
        "\n",
        "    Возвращает:\n",
        "    Линеаризованные значения метрики\n",
        "    \"\"\"\n",
        "    return x_bar/y_bar + (1/y_bar)*x - (x_bar/y_bar**2)*y\n",
        "\n",
        "# Расчет средних значений для линеаризации\n",
        "x_bar_control = control_group['total_gmv'].mean()\n",
        "y_bar_control = control_group['n_transactions'].mean()\n",
        "x_bar_test = test_group['total_gmv'].mean()\n",
        "y_bar_test = test_group['n_transactions'].mean()\n",
        "\n",
        "# Линеаризация метрик\n",
        "control_linearized = linearize_metric(control_group['total_gmv'], control_group['n_transactions'], x_bar_control, y_bar_control)\n",
        "\n",
        "test_linearized = linearize_metric(\n",
        "    test_group['total_gmv'],\n",
        "    test_group['n_transactions'],\n",
        "    x_bar_test,\n",
        "    y_bar_test\n",
        ")\n",
        "\n",
        "# Проведение t-теста на линеаризованных метриках\n",
        "t_stat_linear, p_value_linear = stats.ttest_ind(test_linearized, control_linearized, equal_var=False)\n",
        "\n",
        "print(\"Результаты анализа с линеаризацией метрики:\")\n",
        "print(f\"T-статистика: {t_stat_linear:.3f}\")\n",
        "print(f\"P-value: {p_value_linear:.3f}\")\n",
        "\n",
        "# Интерпретация результатов\n",
        "if p_value_linear < alpha:\n",
        "    print(\"Вывод: Отвергаем нулевую гипотезу - есть статистически значимые различия между группами.\")\n",
        "else:\n",
        "    print(\"Вывод: Не отвергаем нулевую гипотезу - статистически значимых различий не обнаружено.\")"
      ],
      "metadata": {
        "colab": {
          "base_uri": "https://localhost:8080/"
        },
        "id": "JkAORD1f44YC",
        "outputId": "41381b3a-175c-4451-bbe3-64d6d6c094a4"
      },
      "execution_count": 66,
      "outputs": [
        {
          "output_type": "stream",
          "name": "stdout",
          "text": [
            "Результаты анализа с линеаризацией метрики:\n",
            "T-статистика: 2.344\n",
            "P-value: 0.019\n",
            "Вывод: Отвергаем нулевую гипотезу - есть статистически значимые различия между группами.\n"
          ]
        }
      ]
    },
    {
      "cell_type": "markdown",
      "source": [
        "## **6. CUPED: повышение чувствительности теста**\n",
        "\n",
        "6.1. Загрузка данных с историческими значениями"
      ],
      "metadata": {
        "id": "fYaDYPj96Qdh"
      }
    },
    {
      "cell_type": "code",
      "source": [
        "# Загрузка данных с историческими значениями\n",
        "data_cuped = pd.read_csv('synthetic_gmv_data_1.3.csv')\n",
        "print(\"Первые 5 строк данных для CUPED:\")\n",
        "print(data_cuped.head())"
      ],
      "metadata": {
        "colab": {
          "base_uri": "https://localhost:8080/"
        },
        "id": "CN5hg_-b6VUP",
        "outputId": "8dcf7ce6-c4e1-4edd-d496-075a7653cbfc"
      },
      "execution_count": 71,
      "outputs": [
        {
          "output_type": "stream",
          "name": "stdout",
          "text": [
            "Первые 5 строк данных для CUPED:\n",
            "   gmv_hist  gmv_exp group_name\n",
            "0    200.78   123.19       test\n",
            "1    363.80   134.49    control\n",
            "2     39.93   116.72    control\n",
            "3    150.99   177.67    control\n",
            "4    208.93    65.30       test\n"
          ]
        }
      ]
    },
    {
      "cell_type": "markdown",
      "source": [
        "6.2. Применение метода CUPED"
      ],
      "metadata": {
        "id": "1Qr0Z0f46Zig"
      }
    },
    {
      "cell_type": "code",
      "source": [
        "# Расчет коэффициента theta\n",
        "X = data_cuped['gmv_hist']\n",
        "Y = data_cuped['gmv_exp']\n",
        "theta = np.cov(X, Y)[0, 1] / np.var(X)\n",
        "data_cuped['gmv_cuped'] = data_cuped['gmv_exp'] - theta * (data_cuped['gmv_hist'] - data_cuped['gmv_hist'].mean())\n",
        "\n",
        "# Разделение на группы\n",
        "test_cuped = data_cuped[data_cuped['group_name'] == 'test']\n",
        "control_cuped = data_cuped[data_cuped['group_name'] == 'control']"
      ],
      "metadata": {
        "id": "DHxVDJJq6bbq"
      },
      "execution_count": 72,
      "outputs": []
    },
    {
      "cell_type": "markdown",
      "source": [
        "6.3. Сравнение результатов до и после CUPED"
      ],
      "metadata": {
        "id": "IdyZun_M6e__"
      }
    },
    {
      "cell_type": "code",
      "source": [
        "# Проведение t-тестов\n",
        "t_stat_orig, p_value_orig = stats.ttest_ind(test_cuped['gmv_exp'], control_cuped['gmv_exp'], equal_var=False)\n",
        "t_stat_cuped, p_value_cuped = stats.ttest_ind(test_cuped['gmv_cuped'], control_cuped['gmv_cuped'], equal_var=False)\n",
        "\n",
        "print(\"Сравнение результатов до и после применения CUPED:\")\n",
        "print(f\"Оригинальные данные: p-value = {p_value_orig:.4f}\")\n",
        "print(f\"CUPED p-value = {p_value_cuped:.4f}\")\n"
      ],
      "metadata": {
        "colab": {
          "base_uri": "https://localhost:8080/"
        },
        "id": "IfoVj-NY6hIM",
        "outputId": "929e7bb8-14f0-4f22-b830-9274f1b9a442"
      },
      "execution_count": 75,
      "outputs": [
        {
          "output_type": "stream",
          "name": "stdout",
          "text": [
            "Сравнение результатов до и после применения CUPED:\n",
            "Оригинальные данные: p-value = 0.2327\n",
            "CUPED p-value = 0.0467\n"
          ]
        }
      ]
    }
  ]
}